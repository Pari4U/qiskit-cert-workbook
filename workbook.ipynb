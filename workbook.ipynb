{
 "cells": [
  {
   "cell_type": "code",
   "execution_count": 78,
   "metadata": {},
   "outputs": [],
   "source": [
    "#initialization \n",
    "import matplotlib.pyplot as plt\n",
    "import numpy as np\n",
    "\n",
    "#ignore deprecation warnings because they are annoying (not recommened generally)\n",
    "from warnings import simplefilter \n",
    "simplefilter(action='ignore', category=DeprecationWarning)\n",
    "\n",
    "# Importing standard Qiskit libraries\n",
    "from qiskit import *\n",
    "from qiskit.tools.jupyter import *\n",
    "from qiskit.visualization import *\n",
    "from qiskit.quantum_info import *\n",
    "from qiskit.circuit.library import *\n",
    "from ibm_quantum_widgets import *"
   ]
  },
  {
   "cell_type": "markdown",
   "metadata": {},
   "source": [
    "# Section 1: Perform operations on quantum circuits"
   ]
  },
  {
   "cell_type": "markdown",
   "metadata": {},
   "source": [
    "\n",
    "**qubit** – qubit to measure: Qubit or QuantumRegister or int or slice or Sequence of Qubits or ints\n",
    "\n",
    "**cbit** – classical bit to place the measurement in:  Clbit or ClassicalRegister or int or Sequence of Qubits or ints"
   ]
  },
  {
   "cell_type": "code",
   "execution_count": 9,
   "metadata": {},
   "outputs": [
    {
     "data": {
      "text/html": [
       "<pre style=\"word-wrap: normal;white-space: pre;background: #fff0;line-height: 1.1;font-family: &quot;Courier New&quot;,Courier,monospace\">        ┌───┐      ░ ┌─┐   \n",
       "   q_0: ┤ H ├──■───░─┤M├───\n",
       "        └───┘┌─┴─┐ ░ └╥┘┌─┐\n",
       "   q_1: ─────┤ X ├─░──╫─┤M├\n",
       "             └───┘ ░  ║ └╥┘\n",
       "meas: 2/══════════════╩══╩═\n",
       "                      0  1 </pre>"
      ],
      "text/plain": [
       "        ┌───┐      ░ ┌─┐   \n",
       "   q_0: ┤ H ├──■───░─┤M├───\n",
       "        └───┘┌─┴─┐ ░ └╥┘┌─┐\n",
       "   q_1: ─────┤ X ├─░──╫─┤M├\n",
       "             └───┘ ░  ║ └╥┘\n",
       "meas: 2/══════════════╩══╩═\n",
       "                      0  1 "
      ]
     },
     "execution_count": 9,
     "metadata": {},
     "output_type": "execute_result"
    }
   ],
   "source": [
    "NUM_QUBITS = 2\n",
    "# let's construct a multi-qubit quantum register\n",
    "qr = QuantumRegister(NUM_QUBITS, 'q')\n",
    "\n",
    "qc = QuantumCircuit(qr, name='my-circuit')\n",
    "# let's create a Bell's state\n",
    "qc.h(0)\n",
    "qc.cx(0,1)\n",
    "qc.measure_all()\n",
    "qc.draw()"
   ]
  },
  {
   "cell_type": "code",
   "execution_count": 10,
   "metadata": {},
   "outputs": [
    {
     "data": {
      "text/html": [
       "<pre style=\"word-wrap: normal;white-space: pre;background: #fff0;line-height: 1.1;font-family: &quot;Courier New&quot;,Courier,monospace\">     ┌─┐   \n",
       "q_0: ┤M├───\n",
       "     └╥┘┌─┐\n",
       "q_1: ─╫─┤M├\n",
       "      ║ └╥┘\n",
       "c: 2/═╩══╩═\n",
       "      0  1 </pre>"
      ],
      "text/plain": [
       "     ┌─┐   \n",
       "q_0: ┤M├───\n",
       "     └╥┘┌─┐\n",
       "q_1: ─╫─┤M├\n",
       "      ║ └╥┘\n",
       "c: 2/═╩══╩═\n",
       "      0  1 "
      ]
     },
     "execution_count": 10,
     "metadata": {},
     "output_type": "execute_result"
    }
   ],
   "source": [
    "# let's construct a multi-bit classical register\n",
    "cr = ClassicalRegister(NUM_QUBITS, 'c')\n",
    "qc = QuantumCircuit(qr, cr, name='my-circuit')\n",
    "# explicitly measure qubits [0,1] into classical bits [0,1]\n",
    "qc.measure(qr, cr)\n",
    "# alternatively: qc.measure([0,1], [0,1])\n",
    "qc.draw()"
   ]
  },
  {
   "cell_type": "markdown",
   "metadata": {},
   "source": [
    "## Single and multi-qubit gates"
   ]
  },
  {
   "cell_type": "markdown",
   "metadata": {},
   "source": [
    "We are not going to go through basic gates in detail. The reader is expected to be familiar with those. If you are not sure what $X$ or $Z$ gates are you should probably first go through the first two chapters of Qiskit textbook."
   ]
  },
  {
   "cell_type": "markdown",
   "metadata": {},
   "source": [
    "In the following we will create circuits for the 4 Bell states. Bell states are 2 qubit states which are known as maximally entangled states. Note though, that these are different from the states of equal superposition of all basis states which you get, for example, by applying a $H$ gate to each qubit in circuit. Secondly note that there are multiple ways in which you can create the Bell state. This is obvious, for example, if you think that you can always replace a sequence of gates $HX$ by $ZH$. For further details refer to Qiskit gate identities."
   ]
  },
  {
   "cell_type": "code",
   "execution_count": 11,
   "metadata": {},
   "outputs": [
    {
     "data": {
      "text/latex": [
       "$$\\frac{\\sqrt{2}}{2} |00\\rangle+\\frac{\\sqrt{2}}{2} |11\\rangle$$"
      ],
      "text/plain": [
       "<IPython.core.display.Latex object>"
      ]
     },
     "execution_count": 11,
     "metadata": {},
     "output_type": "execute_result"
    }
   ],
   "source": [
    "# Bell state 0\n",
    "bell_0 = QuantumCircuit(2)\n",
    "bell_0.h(0)\n",
    "bell_0.cx(0,1)\n",
    "\n",
    "sv = Statevector.from_label('00')\n",
    "#evolve the initial state through the circuit\n",
    "sv_bell1 = sv.evolve(bell_0) \n",
    "sv_bell1.draw('latex')  "
   ]
  },
  {
   "cell_type": "code",
   "execution_count": 12,
   "metadata": {},
   "outputs": [
    {
     "data": {
      "text/latex": [
       "$$\\frac{\\sqrt{2}}{2} |00\\rangle- \\frac{\\sqrt{2}}{2} |11\\rangle$$"
      ],
      "text/plain": [
       "<IPython.core.display.Latex object>"
      ]
     },
     "execution_count": 12,
     "metadata": {},
     "output_type": "execute_result"
    }
   ],
   "source": [
    "# Bell state 1\n",
    "bell_1 = QuantumCircuit(2)\n",
    "bell_1.x(0)\n",
    "bell_1.h(0)\n",
    "bell_1.cx(0,1)\n",
    "\n",
    "sv = Statevector.from_label('00')\n",
    "#evolve the initial state through the circuit\n",
    "sv_bell2 = sv.evolve(bell_1) \n",
    "sv_bell2.draw('latex')"
   ]
  },
  {
   "cell_type": "code",
   "execution_count": 13,
   "metadata": {},
   "outputs": [
    {
     "data": {
      "text/latex": [
       "$$\\frac{\\sqrt{2}}{2} |01\\rangle+\\frac{\\sqrt{2}}{2} |10\\rangle$$"
      ],
      "text/plain": [
       "<IPython.core.display.Latex object>"
      ]
     },
     "execution_count": 13,
     "metadata": {},
     "output_type": "execute_result"
    }
   ],
   "source": [
    "# Bell state 2\n",
    "bell_2 = QuantumCircuit(2)\n",
    "bell_2.x(0)\n",
    "bell_2.h(1)\n",
    "bell_2.cx(1,0)\n",
    "\n",
    "sv = Statevector.from_label('00')\n",
    "#evolve the initial state through the circuit\n",
    "sv_bell3 = sv.evolve(bell_2) \n",
    "sv_bell3.draw('latex')"
   ]
  },
  {
   "cell_type": "code",
   "execution_count": 14,
   "metadata": {},
   "outputs": [
    {
     "data": {
      "text/latex": [
       "$$\\frac{\\sqrt{2}}{2} |01\\rangle- \\frac{\\sqrt{2}}{2} |10\\rangle$$"
      ],
      "text/plain": [
       "<IPython.core.display.Latex object>"
      ]
     },
     "execution_count": 14,
     "metadata": {},
     "output_type": "execute_result"
    }
   ],
   "source": [
    "# Bell state 3\n",
    "bell_3 = QuantumCircuit(2)\n",
    "bell_3.x(0)\n",
    "bell_3.x(1)\n",
    "bell_3.h(1)\n",
    "bell_3.cx(1,0)\n",
    "\n",
    "sv = Statevector.from_label('00')\n",
    "#evolve the initial state through the circuit\n",
    "sv_bell3 = sv.evolve(bell_3)\n",
    "sv_bell3.draw('latex')"
   ]
  },
  {
   "cell_type": "code",
   "execution_count": 15,
   "metadata": {},
   "outputs": [
    {
     "data": {
      "text/latex": [
       "$$\\frac{1}{2} |00\\rangle+\\frac{1}{2} |01\\rangle+\\frac{1}{2} |10\\rangle+\\frac{1}{2} |11\\rangle$$"
      ],
      "text/plain": [
       "<IPython.core.display.Latex object>"
      ]
     },
     "execution_count": 15,
     "metadata": {},
     "output_type": "execute_result"
    }
   ],
   "source": [
    "# state of equal superposition of basis states\n",
    "max_sp = QuantumCircuit(2)\n",
    "max_sp.h(0)\n",
    "max_sp.h(1)\n",
    "\n",
    "sv = Statevector.from_label('00')\n",
    "# evolve the initial state through the circuit\n",
    "sv_ev = sv.evolve(max_sp)\n",
    "sv_ev.draw('latex')"
   ]
  },
  {
   "cell_type": "markdown",
   "metadata": {},
   "source": [
    "## Circuit barier\n",
    "\n",
    "Despite the common use of barier as a visual tool to separate different parts of circuit, **QuantumCircuit.barrier** is actually an instruction for the transpiler. Transpiler uses different optimizations to improve the performance. For exaxmple, it utilizes gate identities to reduce the depth of the circuit. Two Hadamard gates will be composed into an identity gate if they are not separated by a barier. By placing a barier between two gates you enforce the transpiler to only perform optimizations on different sides of the barier. For more info take a look at this [video](https://www.youtube.com/watch?v=tS2CMOyWFMQ) by Qiskit.\n",
    "\n",
    "**NOTE:** QuantumCircuit.barrier(*args) takes **qargs** as an argument, that is you can specify which qubits you want to apply the barier to. By default barier is applied to all qubits in circuit."
   ]
  },
  {
   "cell_type": "code",
   "execution_count": 16,
   "metadata": {},
   "outputs": [
    {
     "data": {
      "image/png": "[encoded data removed]",
      "text/plain": [
       "<Figure size 193.726x84.28 with 1 Axes>"
      ]
     },
     "execution_count": 16,
     "metadata": {},
     "output_type": "execute_result"
    }
   ],
   "source": [
    "qc = QuantumCircuit(1)\n",
    "qc.h(0)\n",
    "qc.h(0)\n",
    "qc.draw('mpl')"
   ]
  },
  {
   "cell_type": "code",
   "execution_count": 17,
   "metadata": {},
   "outputs": [
    {
     "data": {
      "image/png": "[encoded data removed]",
      "text/plain": [
       "<Figure size 103.426x84.28 with 1 Axes>"
      ]
     },
     "execution_count": 17,
     "metadata": {},
     "output_type": "execute_result"
    }
   ],
   "source": [
    "backend = BasicAer.get_backend('qasm_simulator')\n",
    "qc = QuantumCircuit(1)\n",
    "qc.h(0)\n",
    "qc.h(0)\n",
    "transpile(qc, backend=backend).draw('mpl')"
   ]
  },
  {
   "cell_type": "code",
   "execution_count": 18,
   "metadata": {},
   "outputs": [
    {
     "data": {
      "image/png": "[encoded data removed]",
      "text/plain": [
       "<Figure size 253.926x84.28 with 1 Axes>"
      ]
     },
     "execution_count": 18,
     "metadata": {},
     "output_type": "execute_result"
    }
   ],
   "source": [
    "backend = BasicAer.get_backend('qasm_simulator')\n",
    "qc = QuantumCircuit(1)\n",
    "qc.h(0)\n",
    "qc.barrier()\n",
    "qc.h(0)\n",
    "transpile(qc, backend=backend).draw('mpl')"
   ]
  },
  {
   "cell_type": "code",
   "execution_count": 19,
   "metadata": {},
   "outputs": [
    {
     "data": {
      "image/png": "[encoded data removed]",
      "text/plain": [
       "<Figure size 253.926x84.28 with 1 Axes>"
      ]
     },
     "execution_count": 19,
     "metadata": {},
     "output_type": "execute_result"
    }
   ],
   "source": [
    "# try it out yourself with different gates: instead of Hadamard, try Pauili gates\n",
    "my_qc = QuantumCircuit(1)\n",
    "my_qc.x(0)\n",
    "my_qc.barrier()\n",
    "my_qc.x(0)\n",
    "transpile(my_qc, backend=backend).draw('mpl')\n",
    "# did you get what you expected?"
   ]
  },
  {
   "cell_type": "markdown",
   "metadata": {},
   "source": [
    "## Circuit depth\n",
    "\n",
    "Circuit depth returns the length of critical path in the circuit. It is a metric that calculates the longest path between the input and the output.\n",
    "\n",
    "**NOTE:** The single argument is **filter_function** – a function to filter out some instructions. Should take as input a tuple of (Instruction, list(Qubit), list(Clbit)). By default filters out “directives”, such as barrier or snapshot."
   ]
  },
  {
   "cell_type": "code",
   "execution_count": 20,
   "metadata": {},
   "outputs": [
    {
     "data": {
      "text/plain": [
       "1"
      ]
     },
     "execution_count": 20,
     "metadata": {},
     "output_type": "execute_result"
    }
   ],
   "source": [
    "qc = QuantumCircuit(1)\n",
    "qc.x(0)\n",
    "qc.depth()"
   ]
  },
  {
   "cell_type": "code",
   "execution_count": 21,
   "metadata": {},
   "outputs": [
    {
     "data": {
      "text/html": [
       "<pre style=\"word-wrap: normal;white-space: pre;background: #fff0;line-height: 1.1;font-family: &quot;Courier New&quot;,Courier,monospace\">     ┌───┐     \n",
       "q_0: ┤ X ├─────\n",
       "     ├───┤┌───┐\n",
       "q_1: ┤ X ├┤ X ├\n",
       "     └───┘└───┘</pre>"
      ],
      "text/plain": [
       "     ┌───┐     \n",
       "q_0: ┤ X ├─────\n",
       "     ├───┤┌───┐\n",
       "q_1: ┤ X ├┤ X ├\n",
       "     └───┘└───┘"
      ]
     },
     "execution_count": 21,
     "metadata": {},
     "output_type": "execute_result"
    }
   ],
   "source": [
    "qc = QuantumCircuit(2)\n",
    "qc.x([0,1])\n",
    "qc.x(1)\n",
    "qc.depth()\n",
    "# draw the circuit yourself to see why the depth has increased now\n",
    "qc.draw()"
   ]
  },
  {
   "cell_type": "code",
   "execution_count": 22,
   "metadata": {},
   "outputs": [
    {
     "data": {
      "text/html": [
       "<pre style=\"word-wrap: normal;white-space: pre;background: #fff0;line-height: 1.1;font-family: &quot;Courier New&quot;,Courier,monospace\">     ┌───┐ ░ ┌───┐     \n",
       "q_0: ┤ X ├─░─┤ H ├──■──\n",
       "     └───┘ ░ └───┘┌─┴─┐\n",
       "q_1: ─────────────┤ X ├\n",
       "                  └───┘</pre>"
      ],
      "text/plain": [
       "     ┌───┐ ░ ┌───┐     \n",
       "q_0: ┤ X ├─░─┤ H ├──■──\n",
       "     └───┘ ░ └───┘┌─┴─┐\n",
       "q_1: ─────────────┤ X ├\n",
       "                  └───┘"
      ]
     },
     "execution_count": 22,
     "metadata": {},
     "output_type": "execute_result"
    }
   ],
   "source": [
    "qc = QuantumCircuit(2)\n",
    "qc.x(0)\n",
    "qc.barrier(0)\n",
    "qc.h(0)\n",
    "qc.cx(0,1)\n",
    "qc.depth()\n",
    "# draw the circuit yourself to see why the depth has increased now\n",
    "# hint: the longest path is not always the lenth of the longest sequence along one channel\n",
    "qc.draw()\n",
    "# the second qubit only has a CX gate applied to it, but has to \"wait\" for the first qubit to provide the control\n",
    "# also, barier doesn't count"
   ]
  },
  {
   "cell_type": "markdown",
   "metadata": {},
   "source": [
    "# Section 2: Executing experiments"
   ]
  },
  {
   "cell_type": "code",
   "execution_count": 23,
   "metadata": {},
   "outputs": [
    {
     "data": {
      "image/png": "[encoded data removed]",
      "text/plain": [
       "<Figure size 267.197x204.68 with 1 Axes>"
      ]
     },
     "execution_count": 23,
     "metadata": {},
     "output_type": "execute_result"
    }
   ],
   "source": [
    "from qiskit.algorithms import Grover, AmplificationProblem\n",
    "\n",
    "# let's construct an oracle with a single solution\n",
    "sv = Statevector.from_label('010')\n",
    "problem = AmplificationProblem(oracle=sv)\n",
    "\n",
    "grover = Grover(iterations=2).construct_circuit(problem=problem)\n",
    "\n",
    "# the original circuit contains unitaries\n",
    "# transpile the circuit in terms of basis gates to see what it is \"made of\"\n",
    "t_grover = transpile(grover, basis_gates=['cx', 'u3'])\n",
    "t_grover.draw('mpl', fold=-1)\n",
    "\n",
    "# draw the original cicuit yourself\n",
    "grover.draw('mpl', fold=-1)"
   ]
  },
  {
   "cell_type": "code",
   "execution_count": 24,
   "metadata": {},
   "outputs": [
    {
     "data": {
      "text/latex": [
       "$$- \\frac{\\sqrt{2}}{16} |000\\rangle- \\frac{\\sqrt{2}}{16} |001\\rangle+0.972271824131501 |010\\rangle- \\frac{\\sqrt{2}}{16} |011\\rangle- \\frac{\\sqrt{2}}{16} |100\\rangle- \\frac{\\sqrt{2}}{16} |101\\rangle- \\frac{\\sqrt{2}}{16} |110\\rangle- \\frac{\\sqrt{2}}{16} |111\\rangle$$"
      ],
      "text/plain": [
       "<IPython.core.display.Latex object>"
      ]
     },
     "execution_count": 24,
     "metadata": {},
     "output_type": "execute_result"
    }
   ],
   "source": [
    "# lets's try to evolve the initial state through the circuit like we have done for Bell states\n",
    "sv = Statevector.from_label('000')\n",
    "sv_ev = sv.evolve(grover)\n",
    "sv_ev.draw('latex')\n",
    "# it is obvious from statevector evolutions, that the state 010\n",
    "# has the best chances to be measured, as desired"
   ]
  },
  {
   "cell_type": "code",
   "execution_count": 25,
   "metadata": {},
   "outputs": [
    {
     "data": {
      "image/png": "[encoded data removed]",
      "text/plain": [
       "<Figure size 504x360 with 1 Axes>"
      ]
     },
     "execution_count": 25,
     "metadata": {},
     "output_type": "execute_result"
    }
   ],
   "source": [
    "# now let's obtain the same result from the QASM simulation\n",
    "# for that we need to measure the qubits in the end of our circuit\n",
    "grover.measure_all()\n",
    "\n",
    "backend= BasicAer.get_backend('qasm_simulator')\n",
    "job = execute(grover, backend, shots=1024)\n",
    "result = job.result()\n",
    "plot_histogram(result.get_counts())"
   ]
  },
  {
   "cell_type": "code",
   "execution_count": 62,
   "metadata": {},
   "outputs": [
    {
     "name": "stdout",
     "output_type": "stream",
     "text": [
      "We are runnig our circuit on  ibmq_belem\n"
     ]
    }
   ],
   "source": [
    "# finally let's see how our circuit performs on actual hardware\n",
    "# you will need your IBM Quantum account\n",
    "IBMQ.load_account()\n",
    "provider = IBMQ.get_provider(hub='ibm-q')\n",
    "\n",
    "# sometimes you might need to wait when running on real devices\n",
    "# let's monitor the status of our job\n",
    "from qiskit.tools import job_monitor\n",
    "\n",
    "# to call a real backend let's pick the least busy one, which satisfies out requirments\n",
    "from qiskit.providers.ibmq import least_busy\n",
    "\n",
    "suitable_devices = provider.backends(filters = lambda b: b.configuration().n_qubits >= 3\n",
    "                                                        and not b.configuration().simulator\n",
    "                                                        and b.status().operational==True)\n",
    "\n",
    "backend = least_busy(backends=suitable_devices)\n",
    "print(\"We are runnig our circuit on \", backend)\n",
    "\n",
    "#job = execute(grover, backend=backend)\n",
    "#job_monitor(job)"
   ]
  },
  {
   "cell_type": "code",
   "execution_count": 20,
   "metadata": {},
   "outputs": [
    {
     "data": {
      "image/png": "[encoded data removed]",
      "text/plain": [
       "<Figure size 504x360 with 1 Axes>"
      ]
     },
     "execution_count": 20,
     "metadata": {},
     "output_type": "execute_result"
    }
   ],
   "source": [
    "# we see that results from a real device also match our expectations\n",
    "# the algorithm successfully finds the marked string\n",
    "result = job.result()\n",
    "counts = result.get_counts()\n",
    "plot_histogram(counts)"
   ]
  },
  {
   "cell_type": "markdown",
   "metadata": {},
   "source": [
    "# Section 4: Implement QASM\n",
    "\n",
    "QASM is a programming language for circuit based quantum computers. Let's see how we can convert a circuit in Qiskit to QASM strings and back. For more detail refer to this nice [video](https://www.youtube.com/watch?v=wG94YHKDIxc) by Qiskit or to the [documentation](https://qiskit.org/documentation/stubs/qiskit.circuit.QuantumCircuit.qasm.html). "
   ]
  },
  {
   "cell_type": "code",
   "execution_count": 26,
   "metadata": {},
   "outputs": [
    {
     "name": "stdout",
     "output_type": "stream",
     "text": [
      "\u001b[92mOPENQASM\u001b[39m \u001b[96m2\u001b[39m.\u001b[96m0\u001b[39m;\n",
      "\u001b[92minclude\u001b[39m\u001b[91m \"qelib1.inc\"\u001b[39m;\n",
      "\u001b[92mqreg\u001b[39m q[\u001b[96m3\u001b[39m];\n",
      "\u001b[95mu3\u001b[39m(pi/\u001b[96m2\u001b[39m,-pi/\u001b[96m4\u001b[39m,-pi) q[\u001b[96m0\u001b[39m];\n",
      "\u001b[95mu3\u001b[39m(pi/\u001b[96m2\u001b[39m,\u001b[96m0\u001b[39m,pi) q[\u001b[96m1\u001b[39m];\n",
      "\u001b[95mcx\u001b[39m q[\u001b[96m1\u001b[39m],q[\u001b[96m0\u001b[39m];\n",
      "\u001b[95mu3\u001b[39m(\u001b[96m0\u001b[39m,\u001b[96m0\u001b[39m,pi/\u001b[96m4\u001b[39m) q[\u001b[96m0\u001b[39m];\n",
      "\u001b[95mu3\u001b[39m(pi/\u001b[96m2\u001b[39m,\u001b[96m0\u001b[39m,pi) q[\u001b[96m2\u001b[39m];\n",
      "\u001b[95mcx\u001b[39m q[\u001b[96m2\u001b[39m],q[\u001b[96m0\u001b[39m];\n",
      "\u001b[95mu3\u001b[39m(\u001b[96m0\u001b[39m,\u001b[96m0\u001b[39m,pi/\u001b[96m4\u001b[39m) q[\u001b[96m0\u001b[39m];\n",
      "\u001b[95mcx\u001b[39m q[\u001b[96m1\u001b[39m],q[\u001b[96m0\u001b[39m];\n",
      "\u001b[95mu3\u001b[39m(\u001b[96m0\u001b[39m,\u001b[96m0\u001b[39m,-pi/\u001b[96m4\u001b[39m) q[\u001b[96m0\u001b[39m];\n",
      "\u001b[95mu3\u001b[39m(\u001b[96m0\u001b[39m,\u001b[96m0\u001b[39m,pi/\u001b[96m4\u001b[39m) q[\u001b[96m1\u001b[39m];\n",
      "\u001b[95mcx\u001b[39m q[\u001b[96m2\u001b[39m],q[\u001b[96m0\u001b[39m];\n",
      "\u001b[95mu3\u001b[39m(pi/\u001b[96m2\u001b[39m,\u001b[96m0\u001b[39m,\u001b[96m0\u001b[39m) q[\u001b[96m0\u001b[39m];\n",
      "\u001b[95mcx\u001b[39m q[\u001b[96m2\u001b[39m],q[\u001b[96m1\u001b[39m];\n",
      "\u001b[95mu3\u001b[39m(\u001b[96m0\u001b[39m,\u001b[96m0\u001b[39m,pi/\u001b[96m4\u001b[39m) q[\u001b[96m1\u001b[39m];\n",
      "\u001b[95mcx\u001b[39m q[\u001b[96m2\u001b[39m],q[\u001b[96m1\u001b[39m];\n",
      "\u001b[95mu3\u001b[39m(pi/\u001b[96m2\u001b[39m,\u001b[96m0\u001b[39m,\u001b[96m0\u001b[39m) q[\u001b[96m1\u001b[39m];\n",
      "\u001b[95mu3\u001b[39m(pi/\u001b[96m2\u001b[39m,\u001b[96m0\u001b[39m,-pi/\u001b[96m4\u001b[39m) q[\u001b[96m2\u001b[39m];\n",
      "\u001b[95mcx\u001b[39m q[\u001b[96m1\u001b[39m],q[\u001b[96m2\u001b[39m];\n",
      "\u001b[95mu3\u001b[39m(\u001b[96m0\u001b[39m,\u001b[96m0\u001b[39m,-pi/\u001b[96m4\u001b[39m) q[\u001b[96m2\u001b[39m];\n",
      "\u001b[95mcx\u001b[39m q[\u001b[96m0\u001b[39m],q[\u001b[96m2\u001b[39m];\n",
      "\u001b[95mu3\u001b[39m(\u001b[96m0\u001b[39m,\u001b[96m0\u001b[39m,pi/\u001b[96m4\u001b[39m) q[\u001b[96m2\u001b[39m];\n",
      "\u001b[95mcx\u001b[39m q[\u001b[96m1\u001b[39m],q[\u001b[96m2\u001b[39m];\n",
      "\u001b[95mu3\u001b[39m(\u001b[96m0\u001b[39m,\u001b[96m0\u001b[39m,pi/\u001b[96m4\u001b[39m) q[\u001b[96m1\u001b[39m];\n",
      "\u001b[95mu3\u001b[39m(\u001b[96m0\u001b[39m,\u001b[96m0\u001b[39m,-pi/\u001b[96m4\u001b[39m) q[\u001b[96m2\u001b[39m];\n",
      "\u001b[95mcx\u001b[39m q[\u001b[96m0\u001b[39m],q[\u001b[96m2\u001b[39m];\n",
      "\u001b[95mcx\u001b[39m q[\u001b[96m0\u001b[39m],q[\u001b[96m1\u001b[39m];\n",
      "\u001b[95mu3\u001b[39m(\u001b[96m0\u001b[39m,\u001b[96m0\u001b[39m,pi/\u001b[96m4\u001b[39m) q[\u001b[96m0\u001b[39m];\n",
      "\u001b[95mu3\u001b[39m(\u001b[96m0\u001b[39m,\u001b[96m0\u001b[39m,-pi/\u001b[96m4\u001b[39m) q[\u001b[96m1\u001b[39m];\n",
      "\u001b[95mcx\u001b[39m q[\u001b[96m0\u001b[39m],q[\u001b[96m1\u001b[39m];\n",
      "\u001b[95mu3\u001b[39m(pi/\u001b[96m2\u001b[39m,\u001b[96m3\u001b[39m*pi/\u001b[96m4\u001b[39m,-pi) q[\u001b[96m0\u001b[39m];\n",
      "\u001b[95mu3\u001b[39m(pi/\u001b[96m2\u001b[39m,-pi,-pi) q[\u001b[96m1\u001b[39m];\n",
      "\u001b[95mcx\u001b[39m q[\u001b[96m1\u001b[39m],q[\u001b[96m0\u001b[39m];\n",
      "\u001b[95mu3\u001b[39m(\u001b[96m0\u001b[39m,\u001b[96m0\u001b[39m,pi/\u001b[96m4\u001b[39m) q[\u001b[96m0\u001b[39m];\n",
      "\u001b[95mu3\u001b[39m(pi/\u001b[96m2\u001b[39m,-pi,-\u001b[96m3\u001b[39m*pi/\u001b[96m4\u001b[39m) q[\u001b[96m2\u001b[39m];\n",
      "\u001b[95mcx\u001b[39m q[\u001b[96m2\u001b[39m],q[\u001b[96m0\u001b[39m];\n",
      "\u001b[95mu3\u001b[39m(\u001b[96m0\u001b[39m,\u001b[96m0\u001b[39m,pi/\u001b[96m4\u001b[39m) q[\u001b[96m0\u001b[39m];\n",
      "\u001b[95mcx\u001b[39m q[\u001b[96m1\u001b[39m],q[\u001b[96m0\u001b[39m];\n",
      "\u001b[95mu3\u001b[39m(\u001b[96m0\u001b[39m,\u001b[96m0\u001b[39m,-pi/\u001b[96m4\u001b[39m) q[\u001b[96m0\u001b[39m];\n",
      "\u001b[95mu3\u001b[39m(\u001b[96m0\u001b[39m,\u001b[96m0\u001b[39m,pi/\u001b[96m4\u001b[39m) q[\u001b[96m1\u001b[39m];\n",
      "\u001b[95mcx\u001b[39m q[\u001b[96m2\u001b[39m],q[\u001b[96m0\u001b[39m];\n",
      "\u001b[95mu3\u001b[39m(pi/\u001b[96m2\u001b[39m,\u001b[96m0\u001b[39m,\u001b[96m0\u001b[39m) q[\u001b[96m0\u001b[39m];\n",
      "\u001b[95mcx\u001b[39m q[\u001b[96m2\u001b[39m],q[\u001b[96m1\u001b[39m];\n",
      "\u001b[95mu3\u001b[39m(\u001b[96m0\u001b[39m,\u001b[96m0\u001b[39m,pi/\u001b[96m4\u001b[39m) q[\u001b[96m1\u001b[39m];\n",
      "\u001b[95mcx\u001b[39m q[\u001b[96m2\u001b[39m],q[\u001b[96m1\u001b[39m];\n",
      "\u001b[95mu3\u001b[39m(pi/\u001b[96m2\u001b[39m,\u001b[96m0\u001b[39m,\u001b[96m0\u001b[39m) q[\u001b[96m1\u001b[39m];\n",
      "\u001b[95mu3\u001b[39m(pi/\u001b[96m2\u001b[39m,\u001b[96m0\u001b[39m,-pi/\u001b[96m4\u001b[39m) q[\u001b[96m2\u001b[39m];\n",
      "\u001b[95mcx\u001b[39m q[\u001b[96m1\u001b[39m],q[\u001b[96m2\u001b[39m];\n",
      "\u001b[95mu3\u001b[39m(\u001b[96m0\u001b[39m,\u001b[96m0\u001b[39m,-pi/\u001b[96m4\u001b[39m) q[\u001b[96m2\u001b[39m];\n",
      "\u001b[95mcx\u001b[39m q[\u001b[96m0\u001b[39m],q[\u001b[96m2\u001b[39m];\n",
      "\u001b[95mu3\u001b[39m(\u001b[96m0\u001b[39m,\u001b[96m0\u001b[39m,pi/\u001b[96m4\u001b[39m) q[\u001b[96m2\u001b[39m];\n",
      "\u001b[95mcx\u001b[39m q[\u001b[96m1\u001b[39m],q[\u001b[96m2\u001b[39m];\n",
      "\u001b[95mu3\u001b[39m(\u001b[96m0\u001b[39m,\u001b[96m0\u001b[39m,pi/\u001b[96m4\u001b[39m) q[\u001b[96m1\u001b[39m];\n",
      "\u001b[95mu3\u001b[39m(\u001b[96m0\u001b[39m,\u001b[96m0\u001b[39m,-pi/\u001b[96m4\u001b[39m) q[\u001b[96m2\u001b[39m];\n",
      "\u001b[95mcx\u001b[39m q[\u001b[96m0\u001b[39m],q[\u001b[96m2\u001b[39m];\n",
      "\u001b[95mcx\u001b[39m q[\u001b[96m0\u001b[39m],q[\u001b[96m1\u001b[39m];\n",
      "\u001b[95mu3\u001b[39m(\u001b[96m0\u001b[39m,\u001b[96m0\u001b[39m,pi/\u001b[96m4\u001b[39m) q[\u001b[96m0\u001b[39m];\n",
      "\u001b[95mu3\u001b[39m(\u001b[96m0\u001b[39m,\u001b[96m0\u001b[39m,-pi/\u001b[96m4\u001b[39m) q[\u001b[96m1\u001b[39m];\n",
      "\u001b[95mcx\u001b[39m q[\u001b[96m0\u001b[39m],q[\u001b[96m1\u001b[39m];\n",
      "\u001b[95mu3\u001b[39m(pi/\u001b[96m2\u001b[39m,-pi,-pi) q[\u001b[96m0\u001b[39m];\n",
      "\u001b[95mu3\u001b[39m(pi/\u001b[96m2\u001b[39m,-pi,-pi) q[\u001b[96m1\u001b[39m];\n",
      "\u001b[95mu3\u001b[39m(pi/\u001b[96m2\u001b[39m,-pi,-\u001b[96m3\u001b[39m*pi/\u001b[96m4\u001b[39m) q[\u001b[96m2\u001b[39m];\n",
      "\n"
     ]
    }
   ],
   "source": [
    "# let's again use our transpiled Grover circuit to demonstarte the idea\n",
    "\n",
    "# Notice: QASM doesn't look \"nice\". This is a low-level language which can be understood by quantum hardware.\n",
    "# If you want to take a look at the QASM code make sure to specify 'formatted=True' which makes the code readable by a human being.\n",
    "t_grover.qasm(formatted=True)"
   ]
  },
  {
   "cell_type": "code",
   "execution_count": 27,
   "metadata": {},
   "outputs": [
    {
     "data": {
      "image/png": "[encoded data removed]",
      "text/plain": [
       "<Figure size 3217x204.68 with 1 Axes>"
      ]
     },
     "execution_count": 27,
     "metadata": {},
     "output_type": "execute_result"
    }
   ],
   "source": [
    "# store the circuit to a file in the follwing way\n",
    "qasm_code = t_grover.qasm(filename='grover.qasm')\n",
    "\n",
    "# to get the circuit back from QASM file execute the following\n",
    "my_qc = QuantumCircuit.from_qasm_file('grover.qasm')\n",
    "my_qc.draw('mpl', fold=-1)"
   ]
  },
  {
   "cell_type": "markdown",
   "metadata": {},
   "source": [
    "# Section 5: Operators and fidelity"
   ]
  },
  {
   "cell_type": "markdown",
   "metadata": {},
   "source": [
    "## Operators\n",
    "\n",
    "The Operator class is used in Qiskit to represent matrix operators acting on a quantum system. You can build an Operator from a matrix, convert a Gate or a QuantumCircuit to an Operator or compose an Operator from a bunch of smaller Operaotrs."
   ]
  },
  {
   "cell_type": "code",
   "execution_count": 38,
   "metadata": {},
   "outputs": [
    {
     "data": {
      "text/plain": [
       "Operator([[0.+0.j, 1.+0.j, 0.+0.j],\n",
       "          [1.+0.j, 0.+0.j, 0.+0.j],\n",
       "          [0.+0.j, 1.+0.j, 1.+0.j]],\n",
       "         input_dims=(3,), output_dims=(3,))"
      ]
     },
     "execution_count": 38,
     "metadata": {},
     "output_type": "execute_result"
    }
   ],
   "source": [
    "# let's create an arbitrary Operator from a matrix\n",
    "A = np.array([[0,1,0], [1,0,0], [0,1,1]])\n",
    "op = Operator(A)\n",
    "# Operator contains information about its matrix representation and input and output dimensions\n",
    "op"
   ]
  },
  {
   "cell_type": "code",
   "execution_count": 43,
   "metadata": {},
   "outputs": [
    {
     "data": {
      "text/plain": [
       "Operator([[ 0.5+0.j,  0.5+0.j,  0.5+0.j,  0.5+0.j],\n",
       "          [ 0.5+0.j, -0.5+0.j, -0.5+0.j,  0.5+0.j],\n",
       "          [ 0.5+0.j,  0.5+0.j, -0.5+0.j, -0.5+0.j],\n",
       "          [ 0.5+0.j, -0.5+0.j,  0.5+0.j, -0.5+0.j]],\n",
       "         input_dims=(2, 2), output_dims=(2, 2))"
      ]
     },
     "execution_count": 43,
     "metadata": {},
     "output_type": "execute_result"
    }
   ],
   "source": [
    "# create an Operator from a circuit yourself\n",
    "qc = QuantumCircuit(2)\n",
    "qc.h([0,1])\n",
    "qc.cx(0,1)\n",
    "\n",
    "op = Operator(qc)\n",
    "op"
   ]
  },
  {
   "cell_type": "markdown",
   "metadata": {},
   "source": [
    "You can compose Operators into larger Operators using tensor product (look up Kronecker product) or tensor expansion (which is just a tensor product in the reversed order)."
   ]
  },
  {
   "cell_type": "code",
   "execution_count": 53,
   "metadata": {},
   "outputs": [
    {
     "data": {
      "text/plain": [
       "Operator([[ 0.+0.j,  1.+0.j,  0.+0.j,  0.+0.j],\n",
       "          [ 1.+0.j,  0.+0.j,  0.+0.j,  0.+0.j],\n",
       "          [ 0.+0.j,  0.+0.j, -0.+0.j, -1.+0.j],\n",
       "          [ 0.+0.j,  0.+0.j, -1.+0.j, -0.+0.j]],\n",
       "         input_dims=(2, 2), output_dims=(2, 2))"
      ]
     },
     "execution_count": 53,
     "metadata": {},
     "output_type": "execute_result"
    }
   ],
   "source": [
    "A = Operator(Pauli(label='X'))\n",
    "B = Operator(Pauli(label='Z'))\n",
    "A.expand(B) # B x A "
   ]
  },
  {
   "cell_type": "code",
   "execution_count": 54,
   "metadata": {},
   "outputs": [
    {
     "data": {
      "text/plain": [
       "Operator([[ 0.+0.j,  0.+0.j,  1.+0.j,  0.+0.j],\n",
       "          [ 0.+0.j, -0.+0.j,  0.+0.j, -1.+0.j],\n",
       "          [ 1.+0.j,  0.+0.j,  0.+0.j,  0.+0.j],\n",
       "          [ 0.+0.j, -1.+0.j,  0.+0.j, -0.+0.j]],\n",
       "         input_dims=(2, 2), output_dims=(2, 2))"
      ]
     },
     "execution_count": 54,
     "metadata": {},
     "output_type": "execute_result"
    }
   ],
   "source": [
    "A = Operator(Pauli(label='X'))\n",
    "B = Operator(Pauli(label='Z'))\n",
    "A.tensor(B) # result A x B"
   ]
  },
  {
   "cell_type": "markdown",
   "metadata": {},
   "source": [
    "You can compose a smaller operator with a selection of subsystems on a larger operator using the qargs kwarg of compose method."
   ]
  },
  {
   "cell_type": "code",
   "execution_count": 60,
   "metadata": {},
   "outputs": [
    {
     "data": {
      "text/plain": [
       "Operator([[0.+0.j, 0.+0.j, 0.+0.j, 0.+0.j, 0.+0.j, 1.+0.j, 0.+0.j, 0.+0.j],\n",
       "          [0.+0.j, 0.+0.j, 0.+0.j, 0.+0.j, 1.+0.j, 0.+0.j, 0.+0.j, 0.+0.j],\n",
       "          [0.+0.j, 0.+0.j, 0.+0.j, 0.+0.j, 0.+0.j, 0.+0.j, 0.+0.j, 1.+0.j],\n",
       "          [0.+0.j, 0.+0.j, 0.+0.j, 0.+0.j, 0.+0.j, 0.+0.j, 1.+0.j, 0.+0.j],\n",
       "          [0.+0.j, 1.+0.j, 0.+0.j, 0.+0.j, 0.+0.j, 0.+0.j, 0.+0.j, 0.+0.j],\n",
       "          [1.+0.j, 0.+0.j, 0.+0.j, 0.+0.j, 0.+0.j, 0.+0.j, 0.+0.j, 0.+0.j],\n",
       "          [0.+0.j, 0.+0.j, 0.+0.j, 1.+0.j, 0.+0.j, 0.+0.j, 0.+0.j, 0.+0.j],\n",
       "          [0.+0.j, 0.+0.j, 1.+0.j, 0.+0.j, 0.+0.j, 0.+0.j, 0.+0.j, 0.+0.j]],\n",
       "         input_dims=(2, 2, 2), output_dims=(2, 2, 2))"
      ]
     },
     "execution_count": 60,
     "metadata": {},
     "output_type": "execute_result"
    }
   ],
   "source": [
    "III = Operator(np.eye(2 ** 3))\n",
    "XX = Operator(Pauli(label='XX'))\n",
    "XIX = III.compose(XX, qargs=[0,2])\n",
    "XIX # the resulting operator is X x I x X"
   ]
  },
  {
   "cell_type": "markdown",
   "metadata": {},
   "source": [
    "## Fidelity \n",
    "\n",
    "Fidelity is a measure of the \"closeness\" of two quantum states. For pure states the definition reduces to the squared overlap between the states. For example, if one of the states is a basis state, fidelity can be interpreted as the probability that measuring the second state will result in this basis state. For impure states, the definition is omre complex."
   ]
  },
  {
   "cell_type": "code",
   "execution_count": 28,
   "metadata": {},
   "outputs": [
    {
     "data": {
      "text/plain": [
       "0.0"
      ]
     },
     "execution_count": 28,
     "metadata": {},
     "output_type": "execute_result"
    }
   ],
   "source": [
    "# with Qiskit you can find the state fidelity between two quantum states\n",
    "\n",
    "# let's investigate Bell states\n",
    "state_fidelity(sv_bell3, sv_bell1)"
   ]
  },
  {
   "cell_type": "code",
   "execution_count": 29,
   "metadata": {},
   "outputs": [
    {
     "data": {
      "text/plain": [
       "0.4999999999999999"
      ]
     },
     "execution_count": 29,
     "metadata": {},
     "output_type": "execute_result"
    }
   ],
   "source": [
    "basis_state_00 = Statevector.from_label('00')\n",
    "state_fidelity(basis_state_00, sv_bell1)"
   ]
  },
  {
   "cell_type": "code",
   "execution_count": 30,
   "metadata": {},
   "outputs": [
    {
     "data": {
      "text/plain": [
       "0.0"
      ]
     },
     "execution_count": 30,
     "metadata": {},
     "output_type": "execute_result"
    }
   ],
   "source": [
    "basis_state_00 = Statevector.from_label('00')\n",
    "state_fidelity(basis_state_00, sv_bell3)"
   ]
  },
  {
   "cell_type": "markdown",
   "metadata": {},
   "source": [
    "Can you explain the results above?"
   ]
  },
  {
   "cell_type": "markdown",
   "metadata": {},
   "source": [
    "## Process fidelity\n",
    "\n",
    "Process fidelity is different from state fidelity. It tell you how close two quantum channels are to each other. Process fidelity does not depend on the global phase."
   ]
  },
  {
   "cell_type": "code",
   "execution_count": 45,
   "metadata": {},
   "outputs": [
    {
     "name": "stderr",
     "output_type": "stream",
     "text": [
      "Input channel is not TP. Tr_2[Choi] - I has non-zero eigenvalues: [-1.  1.]\n"
     ]
    },
    {
     "data": {
      "text/plain": [
       "0.0"
      ]
     },
     "execution_count": 45,
     "metadata": {},
     "output_type": "execute_result"
    }
   ],
   "source": [
    "# let's find process fidelity of X and H Operators\n",
    "op_1 = Operator([[0,1],[0,1]])\n",
    "op_2 = Operator([[1,1],[1,-1]])/np.sqrt(2)\n",
    "\n",
    "F = process_fidelity(op_1, op_2)\n",
    "F"
   ]
  },
  {
   "cell_type": "code",
   "execution_count": 52,
   "metadata": {},
   "outputs": [
    {
     "name": "stderr",
     "output_type": "stream",
     "text": [
      "Input channel is not TP. Tr_2[Choi] - I has non-zero eigenvalues: [-1.  1.]\n",
      "Target channel is not TP. Tr_2[Choi] - I has non-zero eigenvalues: [-1.  1.]\n"
     ]
    },
    {
     "data": {
      "text/plain": [
       "1.0"
      ]
     },
     "execution_count": 52,
     "metadata": {},
     "output_type": "execute_result"
    }
   ],
   "source": [
    "# what about fidelity of X Operator with itself multiplied with a complex phase\n",
    "op_1 = Operator([[0,1],[0,1]])\n",
    "op_2 = op_1*np.exp(0.5j)\n",
    "\n",
    "F = process_fidelity(op_1, op_2)\n",
    "F"
   ]
  },
  {
   "cell_type": "markdown",
   "metadata": {},
   "source": [
    "# Section 6: Display system information"
   ]
  },
  {
   "cell_type": "code",
   "execution_count": 31,
   "metadata": {},
   "outputs": [
    {
     "data": {
      "text/plain": [
       "{'qiskit-terra': '0.20.2', 'qiskit-aer': '0.10.4', 'qiskit-ignis': '0.7.1', 'qiskit-ibmq-provider': '0.19.1', 'qiskit-aqua': '0.7.5', 'qiskit': '0.36.2', 'qiskit-nature': None, 'qiskit-finance': None, 'qiskit-optimization': None, 'qiskit-machine-learning': None}"
      ]
     },
     "execution_count": 31,
     "metadata": {},
     "output_type": "execute_result"
    }
   ],
   "source": [
    "# encountered a compatibility error? Check which version of Qiskit you are using\n",
    "import qiskit\n",
    "qiskit.__qiskit_version__"
   ]
  },
  {
   "cell_type": "code",
   "execution_count": 32,
   "metadata": {},
   "outputs": [
    {
     "data": {
      "text/html": [
       "<h3>Version Information</h3><table><tr><th>Qiskit Software</th><th>Version</th></tr><tr><td><code>qiskit-terra</code></td><td>0.20.2</td></tr><tr><td><code>qiskit-aer</code></td><td>0.10.4</td></tr><tr><td><code>qiskit-ignis</code></td><td>0.7.1</td></tr><tr><td><code>qiskit-ibmq-provider</code></td><td>0.19.1</td></tr><tr><td><code>qiskit-aqua</code></td><td>0.7.5</td></tr><tr><td><code>qiskit</code></td><td>0.36.2</td></tr><tr><th>System information</th></tr><tr><td>Python version</td><td>3.8.8</td></tr><tr><td>Python compiler</td><td>MSC v.1916 64 bit (AMD64)</td></tr><tr><td>Python build</td><td>default, Apr 13 2021 15:08:03</td></tr><tr><td>OS</td><td>Windows</td></tr><tr><td>CPUs</td><td>4</td></tr><tr><td>Memory (Gb)</td><td>7.857898712158203</td></tr><tr><td colspan='2'>Fri Jun 10 15:35:57 2022 W. Europe Daylight Time</td></tr></table>"
      ],
      "text/plain": [
       "<IPython.core.display.HTML object>"
      ]
     },
     "metadata": {},
     "output_type": "display_data"
    }
   ],
   "source": [
    "# display the entire version table\n",
    "%qiskit_version_table"
   ]
  },
  {
   "cell_type": "code",
   "execution_count": 63,
   "metadata": {},
   "outputs": [
    {
     "data": {
      "application/vnd.jupyter.widget-view+json": {
       "model_id": "090ec81794ef4b01a3c89f9eb113d542",
       "version_major": 2,
       "version_minor": 0
      },
      "text/plain": [
       "VBox(children=(HTML(value=\"<h2 style ='color:#ffffff; background-color:#000000;padding-top: 1%; padding-bottom…"
      ]
     },
     "metadata": {},
     "output_type": "display_data"
    }
   ],
   "source": [
    "# Let's have an overview information on all the IBMQ backends that are available\n",
    "%qiskit_backend_overview"
   ]
  },
  {
   "cell_type": "code",
   "execution_count": 64,
   "metadata": {},
   "outputs": [
    {
     "data": {
      "image/png": "[encoded data removed]",
      "text/plain": [
       "<Figure size 360x360 with 1 Axes>"
      ]
     },
     "execution_count": 64,
     "metadata": {},
     "output_type": "execute_result"
    }
   ],
   "source": [
    "# now let's pick one device and investigate it \n",
    "from qiskit.visualization import plot_gate_map\n",
    "backend = provider.get_backend('ibmq_bogota')\n",
    "\n",
    "plot_gate_map(backend, plot_directed=True)"
   ]
  },
  {
   "cell_type": "code",
   "execution_count": 65,
   "metadata": {},
   "outputs": [
    {
     "data": {
      "image/png": "[encoded data removed]",
      "text/plain": [
       "<Figure size 864x648 with 5 Axes>"
      ]
     },
     "execution_count": 65,
     "metadata": {},
     "output_type": "execute_result"
    }
   ],
   "source": [
    "plot_error_map(backend)"
   ]
  },
  {
   "cell_type": "code",
   "execution_count": 66,
   "metadata": {},
   "outputs": [
    {
     "data": {
      "image/png": "[encoded data removed]",
      "text/plain": [
       "<Figure size 360x360 with 1 Axes>"
      ]
     },
     "execution_count": 66,
     "metadata": {},
     "output_type": "execute_result"
    }
   ],
   "source": [
    "# let's plot the layout of our Bell state circuit transpiled for our target backend\n",
    "transpiled_bell = transpile(bell_0, backend=backend)\n",
    "plot_circuit_layout(transpiled_bell, backend=backend)"
   ]
  },
  {
   "cell_type": "code",
   "execution_count": 67,
   "metadata": {},
   "outputs": [
    {
     "data": {
      "image/png": "[encoded data removed]",
      "text/plain": [
       "<Figure size 360x360 with 1 Axes>"
      ]
     },
     "execution_count": 67,
     "metadata": {},
     "output_type": "execute_result"
    }
   ],
   "source": [
    "# display the layout of transpiled Grover's circuit on our target backend\n",
    "transpiled_grover = transpile(grover, backend=backend)\n",
    "plot_circuit_layout(transpiled_grover, backend=backend)"
   ]
  },
  {
   "cell_type": "code",
   "execution_count": 68,
   "metadata": {},
   "outputs": [
    {
     "data": {
      "image/png": "[encoded data removed]",
      "text/plain": [
       "<Figure size 360x360 with 1 Axes>"
      ]
     },
     "execution_count": 68,
     "metadata": {},
     "output_type": "execute_result"
    }
   ],
   "source": [
    "# what if we want to specify a custom mapping of our circuit qubits to device qubits?\n",
    "# let's create an initial layout\n",
    "initial_layout = [2,3,4] # virtual to physical: virtual qubits are ordered\n",
    "transpiled_qc = transpile(grover, backend=backend, initial_layout=initial_layout)\n",
    "plot_circuit_layout(transpiled_qc, backend=backend)"
   ]
  },
  {
   "cell_type": "markdown",
   "metadata": {},
   "source": [
    "# Section 9: Construct visualizations"
   ]
  },
  {
   "cell_type": "markdown",
   "metadata": {},
   "source": [
    "## Draw a circuit\n",
    "\n",
    "Till this point we have alaways used the **matplotlib** drawer to display our circuits. Let's see how other drawers look like:"
   ]
  },
  {
   "cell_type": "code",
   "execution_count": 69,
   "metadata": {},
   "outputs": [
    {
     "data": {
      "text/html": [
       "<pre style=\"word-wrap: normal;white-space: pre;background: #fff0;line-height: 1.1;font-family: &quot;Courier New&quot;,Courier,monospace\">     ┌───┐     \n",
       "q_0: ┤ H ├──■──\n",
       "     └───┘┌─┴─┐\n",
       "q_1: ─────┤ X ├\n",
       "          └───┘</pre>"
      ],
      "text/plain": [
       "     ┌───┐     \n",
       "q_0: ┤ H ├──■──\n",
       "     └───┘┌─┴─┐\n",
       "q_1: ─────┤ X ├\n",
       "          └───┘"
      ]
     },
     "execution_count": 69,
     "metadata": {},
     "output_type": "execute_result"
    }
   ],
   "source": [
    "# for example, let's draw our Bell's state circuit in text mode\n",
    "bell_0.draw('text')"
   ]
  },
  {
   "cell_type": "markdown",
   "metadata": {},
   "source": [
    "There are plenty of ways to customize the output. For exmaple, display qubits in reversed order:"
   ]
  },
  {
   "cell_type": "code",
   "execution_count": 70,
   "metadata": {},
   "outputs": [
    {
     "data": {
      "image/png": "[encoded data removed]",
      "text/plain": [
       "<Figure size 206.852x144.48 with 1 Axes>"
      ]
     },
     "execution_count": 70,
     "metadata": {},
     "output_type": "execute_result"
    }
   ],
   "source": [
    "# qubits in reversed order\n",
    "bell_0.draw('mpl', reverse_bits=True)"
   ]
  },
  {
   "cell_type": "code",
   "execution_count": 71,
   "metadata": {},
   "outputs": [
    {
     "data": {
      "image/png": "[encoded data removed]",
      "text/plain": [
       "<Figure size 248.222x173.376 with 1 Axes>"
      ]
     },
     "execution_count": 71,
     "metadata": {},
     "output_type": "execute_result"
    }
   ],
   "source": [
    "# More customization\n",
    "style = {'linecolor': 'red', 'backgroundcolor': 'grey'}\n",
    "bell_0.draw('mpl',scale = 1.2, style=style, fold=-1)"
   ]
  },
  {
   "cell_type": "markdown",
   "metadata": {},
   "source": [
    "## Density matrix\n",
    "\n",
    "For a pure state $|\\phi\\rangle$ the density matrix is constructed din the following way $\\rho = |\\phi\\rangle\\langle\\phi|$ "
   ]
  },
  {
   "cell_type": "code",
   "execution_count": 72,
   "metadata": {},
   "outputs": [
    {
     "data": {
      "text/latex": [
       "$$\n",
       "\\rho_{Bell_0} = \n",
       "\\begin{bmatrix}\n",
       "\\tfrac{1}{2} & 0 & 0 & \\tfrac{1}{2}  \\\\\n",
       " 0 & 0 & 0 & 0  \\\\\n",
       " 0 & 0 & 0 & 0  \\\\\n",
       " \\tfrac{1}{2} & 0 & 0 & \\tfrac{1}{2}  \\\\\n",
       " \\end{bmatrix}\n",
       "$$"
      ],
      "text/plain": [
       "<IPython.core.display.Latex object>"
      ]
     },
     "execution_count": 72,
     "metadata": {},
     "output_type": "execute_result"
    }
   ],
   "source": [
    "rho = DensityMatrix.from_instruction(bell_0)\n",
    "rho.draw('latex', prefix='\\\\rho_{Bell_0} = ')"
   ]
  },
  {
   "cell_type": "code",
   "execution_count": 73,
   "metadata": {},
   "outputs": [
    {
     "data": {
      "image/png": "[encoded data removed]",
      "text/plain": [
       "<Figure size 1080x360 with 2 Axes>"
      ]
     },
     "execution_count": 73,
     "metadata": {},
     "output_type": "execute_result"
    }
   ],
   "source": [
    "plot_state_city(rho.data, title='Density Matrix')"
   ]
  },
  {
   "cell_type": "code",
   "execution_count": 74,
   "metadata": {},
   "outputs": [
    {
     "data": {
      "text/latex": [
       "$$\n",
       "\\rho_{equal} = \n",
       "\\begin{bmatrix}\n",
       "\\tfrac{1}{4} & \\tfrac{1}{4} & \\tfrac{1}{4} & \\tfrac{1}{4}  \\\\\n",
       " \\tfrac{1}{4} & \\tfrac{1}{4} & \\tfrac{1}{4} & \\tfrac{1}{4}  \\\\\n",
       " \\tfrac{1}{4} & \\tfrac{1}{4} & \\tfrac{1}{4} & \\tfrac{1}{4}  \\\\\n",
       " \\tfrac{1}{4} & \\tfrac{1}{4} & \\tfrac{1}{4} & \\tfrac{1}{4}  \\\\\n",
       " \\end{bmatrix}\n",
       "$$"
      ],
      "text/plain": [
       "<IPython.core.display.Latex object>"
      ]
     },
     "execution_count": 74,
     "metadata": {},
     "output_type": "execute_result"
    }
   ],
   "source": [
    "# prepare a density matrix for the state of the equal superposition of 2 basis states\n",
    "my_qc = QuantumCircuit(2)\n",
    "my_qc.h([0,1])\n",
    "my_rho = DensityMatrix.from_instruction(my_qc)\n",
    "my_rho.draw('latex', prefix='\\\\rho_{equal} = ')"
   ]
  },
  {
   "cell_type": "code",
   "execution_count": 75,
   "metadata": {},
   "outputs": [
    {
     "data": {
      "text/latex": [
       "$$\n",
       "\\rho_{mixture} = \n",
       "\\begin{bmatrix}\n",
       "\\tfrac{1}{2} & 0  \\\\\n",
       " 0 & \\tfrac{1}{2}  \\\\\n",
       " \\end{bmatrix}\n",
       "$$"
      ],
      "text/plain": [
       "<IPython.core.display.Latex object>"
      ]
     },
     "execution_count": 75,
     "metadata": {},
     "output_type": "execute_result"
    }
   ],
   "source": [
    "# prepare a density matrix for a mixed one-qubit state in an equal mixture of |0> and |1>\n",
    "my_rho_M = np.array([[0.5, 0], [0, 0.5]])\n",
    "my_rho = DensityMatrix(my_rho_M)\n",
    "my_rho.draw('latex', prefix='\\\\rho_{mixture} = ')"
   ]
  },
  {
   "cell_type": "markdown",
   "metadata": {},
   "source": [
    "# Section 10: Additional topics"
   ]
  },
  {
   "cell_type": "markdown",
   "metadata": {},
   "source": [
    "## Toffoli Gate\n",
    "\n",
    "CCX gate, also known as Toffoli gate. It is also known as the \"controlled-controlled-not\" gate. If the first two bits are both set to 1, it inverts the third bit, otherwise all bits stay the same."
   ]
  },
  {
   "cell_type": "code",
   "execution_count": 89,
   "metadata": {},
   "outputs": [
    {
     "data": {
      "image/png": "[encoded data removed]",
      "text/plain": [
       "<Figure size 146.797x204.68 with 1 Axes>"
      ]
     },
     "execution_count": 89,
     "metadata": {},
     "output_type": "execute_result"
    }
   ],
   "source": [
    "qr = QuantumRegister(3, name='q')\n",
    "qc = QuantumCircuit(qr)\n",
    "qc.ccx(control_qubit1=qr[1], control_qubit2=qr[2], target_qubit=qr[0])\n",
    "qc.draw('mpl')"
   ]
  },
  {
   "cell_type": "code",
   "execution_count": 88,
   "metadata": {},
   "outputs": [
    {
     "data": {
      "text/latex": [
       "$$\n",
       "CCX = \n",
       "\\begin{bmatrix}\n",
       "1 & 0 & 0 & 0 & 0 & 0 & 0 & 0  \\\\\n",
       " 0 & 1 & 0 & 0 & 0 & 0 & 0 & 0  \\\\\n",
       " 0 & 0 & 1 & 0 & 0 & 0 & 0 & 0  \\\\\n",
       " 0 & 0 & 0 & 1 & 0 & 0 & 0 & 0  \\\\\n",
       " 0 & 0 & 0 & 0 & 1 & 0 & 0 & 0  \\\\\n",
       " 0 & 0 & 0 & 0 & 0 & 1 & 0 & 0  \\\\\n",
       " 0 & 0 & 0 & 0 & 0 & 0 & 0 & 1  \\\\\n",
       " 0 & 0 & 0 & 0 & 0 & 0 & 1 & 0  \\\\\n",
       " \\end{bmatrix}\n",
       "$$"
      ],
      "text/plain": [
       "<IPython.core.display.Latex object>"
      ]
     },
     "execution_count": 88,
     "metadata": {},
     "output_type": "execute_result"
    }
   ],
   "source": [
    "# Toffoli gate has the following matrix representation for the above configuration\n",
    "matrix = Operator(qc).data\n",
    "array_to_latex(matrix, prefix=\"CCX = \")"
   ]
  },
  {
   "cell_type": "markdown",
   "metadata": {},
   "source": [
    "## SWAP Gate\n",
    "\n",
    "The SWAP gate is two-qubit operation. Expressed in basis states, the SWAP gate swaps the state of the two qubits involved in the operation."
   ]
  },
  {
   "cell_type": "code",
   "execution_count": 92,
   "metadata": {},
   "outputs": [
    {
     "data": {
      "image/png": "[encoded data removed]",
      "text/plain": [
       "<Figure size 146.652x144.48 with 1 Axes>"
      ]
     },
     "execution_count": 92,
     "metadata": {},
     "output_type": "execute_result"
    }
   ],
   "source": [
    "qr = QuantumRegister(2, name='q')\n",
    "qc = QuantumCircuit(qr)\n",
    "qc.swap(qubit1=qr[0], qubit2=[1])\n",
    "qc.draw('mpl')"
   ]
  },
  {
   "cell_type": "code",
   "execution_count": 93,
   "metadata": {},
   "outputs": [
    {
     "data": {
      "text/latex": [
       "$$\n",
       "SWAP = \n",
       "\\begin{bmatrix}\n",
       "1 & 0 & 0 & 0  \\\\\n",
       " 0 & 0 & 1 & 0  \\\\\n",
       " 0 & 1 & 0 & 0  \\\\\n",
       " 0 & 0 & 0 & 1  \\\\\n",
       " \\end{bmatrix}\n",
       "$$"
      ],
      "text/plain": [
       "<IPython.core.display.Latex object>"
      ]
     },
     "execution_count": 93,
     "metadata": {},
     "output_type": "execute_result"
    }
   ],
   "source": [
    "# SWAP gate has the following matrix representation for the above configuration\n",
    "matrix = Operator(qc).data\n",
    "array_to_latex(matrix, prefix=\"SWAP = \")"
   ]
  }
 ],
 "metadata": {
  "interpreter": {
   "hash": "08c9c49d27e68bdd458820e26d3758366881487861c502456df1e241cab4de5a"
  },
  "kernelspec": {
   "display_name": "Python 3.8.8 ('base')",
   "language": "python",
   "name": "python3"
  },
  "language_info": {
   "codemirror_mode": {
    "name": "ipython",
    "version": 3
   },
   "file_extension": ".py",
   "mimetype": "text/x-python",
   "name": "python",
   "nbconvert_exporter": "python",
   "pygments_lexer": "ipython3",
   "version": "3.8.8"
  },
  "orig_nbformat": 4
 },
 "nbformat": 4,
 "nbformat_minor": 2
}
