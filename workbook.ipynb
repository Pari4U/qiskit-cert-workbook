{
 "cells": [
  {
   "cell_type": "code",
   "execution_count": 12,
   "metadata": {},
   "outputs": [],
   "source": [
    "#initialization \n",
    "import matplotlib.pyplot as plt\n",
    "import numpy as np\n",
    "\n",
    "#ignore deprecation warnings because they are annoying (not recommened generally)\n",
    "from warnings import simplefilter \n",
    "simplefilter(action='ignore', category=DeprecationWarning)\n",
    "\n",
    "# Importing standard Qiskit libraries\n",
    "from qiskit import *\n",
    "from qiskit.tools.jupyter import *\n",
    "from qiskit.visualization import *\n",
    "from qiskit.quantum_info import *\n",
    "from ibm_quantum_widgets import *\n",
    "\n",
    "# Loading your IBM Quantum account(s)\n",
    "provider = IBMQ.load_account()"
   ]
  },
  {
   "cell_type": "markdown",
   "metadata": {},
   "source": [
    "# Section 1: Perform operations on quantum circuits"
   ]
  },
  {
   "cell_type": "markdown",
   "metadata": {},
   "source": [
    "\n",
    "**qubit** – qubit to measure: Qubit or QuantumRegister or int or slice or Sequence of Qubits or ints\n",
    "\n",
    "**cbit** – classical bit to place the measurement in:  Clbit or ClassicalRegister or int or Sequence of Qubits or ints"
   ]
  },
  {
   "cell_type": "code",
   "execution_count": 9,
   "metadata": {},
   "outputs": [
    {
     "data": {
      "text/html": [
       "<pre style=\"word-wrap: normal;white-space: pre;background: #fff0;line-height: 1.1;font-family: &quot;Courier New&quot;,Courier,monospace\">        ┌───┐      ░ ┌─┐   \n",
       "   q_0: ┤ H ├──■───░─┤M├───\n",
       "        └───┘┌─┴─┐ ░ └╥┘┌─┐\n",
       "   q_1: ─────┤ X ├─░──╫─┤M├\n",
       "             └───┘ ░  ║ └╥┘\n",
       "meas: 2/══════════════╩══╩═\n",
       "                      0  1 </pre>"
      ],
      "text/plain": [
       "        ┌───┐      ░ ┌─┐   \n",
       "   q_0: ┤ H ├──■───░─┤M├───\n",
       "        └───┘┌─┴─┐ ░ └╥┘┌─┐\n",
       "   q_1: ─────┤ X ├─░──╫─┤M├\n",
       "             └───┘ ░  ║ └╥┘\n",
       "meas: 2/══════════════╩══╩═\n",
       "                      0  1 "
      ]
     },
     "execution_count": 9,
     "metadata": {},
     "output_type": "execute_result"
    }
   ],
   "source": [
    "NUM_QUBITS = 2\n",
    "# let's construct a multi-qubit quantum register\n",
    "qr = QuantumRegister(NUM_QUBITS, 'q')\n",
    "\n",
    "qc = QuantumCircuit(qr, name='my-circuit')\n",
    "# let's create a Bell's state\n",
    "qc.h(0)\n",
    "qc.cx(0,1)\n",
    "qc.measure_all()\n",
    "qc.draw()"
   ]
  },
  {
   "cell_type": "code",
   "execution_count": 11,
   "metadata": {},
   "outputs": [
    {
     "data": {
      "text/html": [
       "<pre style=\"word-wrap: normal;white-space: pre;background: #fff0;line-height: 1.1;font-family: &quot;Courier New&quot;,Courier,monospace\">     ┌─┐   \n",
       "q_0: ┤M├───\n",
       "     └╥┘┌─┐\n",
       "q_1: ─╫─┤M├\n",
       "      ║ └╥┘\n",
       "c: 2/═╩══╩═\n",
       "      0  1 </pre>"
      ],
      "text/plain": [
       "     ┌─┐   \n",
       "q_0: ┤M├───\n",
       "     └╥┘┌─┐\n",
       "q_1: ─╫─┤M├\n",
       "      ║ └╥┘\n",
       "c: 2/═╩══╩═\n",
       "      0  1 "
      ]
     },
     "execution_count": 11,
     "metadata": {},
     "output_type": "execute_result"
    }
   ],
   "source": [
    "# let's construct a multi-bit classical register\n",
    "cr = ClassicalRegister(NUM_QUBITS, 'c')\n",
    "qc = QuantumCircuit(qr, cr, name='my-circuit')\n",
    "# explicitly measure qubits [0,1] into classical bits [0,1]\n",
    "qc.measure(qr, cr)\n",
    "# alternatively: qc.measure([0,1], [0,1])\n",
    "qc.draw()"
   ]
  },
  {
   "cell_type": "markdown",
   "metadata": {},
   "source": [
    "## Single and multi-qubit gates"
   ]
  },
  {
   "cell_type": "markdown",
   "metadata": {},
   "source": [
    "We are not going to go through basic gates in detail. The reader is expected to be familiar with those. If you are not sure what $X$ or $Z$ gates are you should probably first go through the first two chapters of Qiskit textbook."
   ]
  },
  {
   "cell_type": "markdown",
   "metadata": {},
   "source": [
    "In the following we will create circuits for the 4 Bell states. Bell states are 2 qubit states which are known as maximally entangled states. Note though, that these are different from the states of equal superposition of all basis states which you get, for example, by applying a $H$ gate to each qubit in circuit. Secondly note that there are multiple ways in which you can create the Bell state. This is obvious, for example, if you think that you can always replace a sequence of gates $HX$ by $ZH$. For further details refer to Qiskit gate identities."
   ]
  },
  {
   "cell_type": "code",
   "execution_count": 14,
   "metadata": {},
   "outputs": [
    {
     "data": {
      "text/latex": [
       "$$\\frac{\\sqrt{2}}{2} |00\\rangle+\\frac{\\sqrt{2}}{2} |11\\rangle$$"
      ],
      "text/plain": [
       "<IPython.core.display.Latex object>"
      ]
     },
     "execution_count": 14,
     "metadata": {},
     "output_type": "execute_result"
    }
   ],
   "source": [
    "# Bell state 0\n",
    "bell_0 = QuantumCircuit(2)\n",
    "bell_0.h(0)\n",
    "bell_0.cx(0,1)\n",
    "\n",
    "sv = Statevector.from_label('00')\n",
    "#evolve the initial state through the circuit\n",
    "sv_ev = sv.evolve(bell_0) \n",
    "sv_ev.draw('latex')"
   ]
  },
  {
   "cell_type": "code",
   "execution_count": 16,
   "metadata": {},
   "outputs": [
    {
     "data": {
      "text/latex": [
       "$$\\frac{\\sqrt{2}}{2} |00\\rangle- \\frac{\\sqrt{2}}{2} |11\\rangle$$"
      ],
      "text/plain": [
       "<IPython.core.display.Latex object>"
      ]
     },
     "execution_count": 16,
     "metadata": {},
     "output_type": "execute_result"
    }
   ],
   "source": [
    "# Bell state 1\n",
    "bell_1 = QuantumCircuit(2)\n",
    "bell_1.x(0)\n",
    "bell_1.h(0)\n",
    "bell_1.cx(0,1)\n",
    "\n",
    "sv = Statevector.from_label('00')\n",
    "#evolve the initial state through the circuit\n",
    "sv_ev = sv.evolve(bell_1) \n",
    "sv_ev.draw('latex')"
   ]
  },
  {
   "cell_type": "code",
   "execution_count": 17,
   "metadata": {},
   "outputs": [
    {
     "data": {
      "text/latex": [
       "$$\\frac{\\sqrt{2}}{2} |01\\rangle+\\frac{\\sqrt{2}}{2} |10\\rangle$$"
      ],
      "text/plain": [
       "<IPython.core.display.Latex object>"
      ]
     },
     "execution_count": 17,
     "metadata": {},
     "output_type": "execute_result"
    }
   ],
   "source": [
    "# Bell state 2\n",
    "bell_2 = QuantumCircuit(2)\n",
    "bell_2.x(0)\n",
    "bell_2.h(1)\n",
    "bell_2.cx(1,0)\n",
    "\n",
    "sv = Statevector.from_label('00')\n",
    "#evolve the initial state through the circuit\n",
    "sv_ev = sv.evolve(bell_2) \n",
    "sv_ev.draw('latex')"
   ]
  },
  {
   "cell_type": "code",
   "execution_count": 20,
   "metadata": {},
   "outputs": [
    {
     "data": {
      "text/latex": [
       "$$\\frac{\\sqrt{2}}{2} |01\\rangle- \\frac{\\sqrt{2}}{2} |10\\rangle$$"
      ],
      "text/plain": [
       "<IPython.core.display.Latex object>"
      ]
     },
     "execution_count": 20,
     "metadata": {},
     "output_type": "execute_result"
    }
   ],
   "source": [
    "# Bell state 3\n",
    "bell_3 = QuantumCircuit(2)\n",
    "bell_3.x(0)\n",
    "bell_3.x(1)\n",
    "bell_3.h(1)\n",
    "bell_3.cx(1,0)\n",
    "\n",
    "sv = Statevector.from_label('00')\n",
    "#evolve the initial state through the circuit\n",
    "sv_ev = sv.evolve(bell_3)\n",
    "sv_ev.draw('latex')"
   ]
  },
  {
   "cell_type": "code",
   "execution_count": 48,
   "metadata": {},
   "outputs": [
    {
     "data": {
      "text/latex": [
       "$$\\frac{1}{2} |00\\rangle+\\frac{1}{2} |01\\rangle+\\frac{1}{2} |10\\rangle+\\frac{1}{2} |11\\rangle$$"
      ],
      "text/plain": [
       "<IPython.core.display.Latex object>"
      ]
     },
     "execution_count": 48,
     "metadata": {},
     "output_type": "execute_result"
    }
   ],
   "source": [
    "# state of equal superposition of basis states\n",
    "max_sp = QuantumCircuit(2)\n",
    "max_sp.h(0)\n",
    "max_sp.h(1)\n",
    "\n",
    "sv = Statevector.from_label('00')\n",
    "# evolve the initial state through the circuit\n",
    "sv_ev = sv.evolve(max_sp)\n",
    "sv_ev.draw('latex')"
   ]
  },
  {
   "cell_type": "markdown",
   "metadata": {},
   "source": [
    "## Circuit barier\n",
    "\n",
    "Despite the common use of barier as a visual tool to separate different parts of circuit, **QuantumCircuit.barrier** is actually an instruction for the transpiler. Transpiler uses different optimizations to improve the performance. For exaxmple, it utilizes gate identities to reduce the depth of the circuit. Two Hadamard gates will be composed into an identity gate if they are not separated by a barier. By placing a barier between two gates you enforce the transpiler to only perform optimizations on different sides of the barier. For more info take a look at this [video](https://www.youtube.com/watch?v=tS2CMOyWFMQ) by Qiskit.\n",
    "\n",
    "**NOTE:** QuantumCircuit.barrier(*args) takes **qargs** as an argument, that is you can specify which qubits you want to apply the barier to. By default barier is applied to all qubits in circuit."
   ]
  },
  {
   "cell_type": "code",
   "execution_count": 26,
   "metadata": {},
   "outputs": [
    {
     "data": {
      "image/png": "[encoded data removed]",
      "text/plain": [
       "<Figure size 193.726x84.28 with 1 Axes>"
      ]
     },
     "execution_count": 26,
     "metadata": {},
     "output_type": "execute_result"
    }
   ],
   "source": [
    "qc = QuantumCircuit(1)\n",
    "qc.h(0)\n",
    "qc.h(0)\n",
    "qc.draw('mpl')"
   ]
  },
  {
   "cell_type": "code",
   "execution_count": 32,
   "metadata": {},
   "outputs": [
    {
     "data": {
      "image/png": "[encoded data removed]",
      "text/plain": [
       "<Figure size 103.426x84.28 with 1 Axes>"
      ]
     },
     "execution_count": 32,
     "metadata": {},
     "output_type": "execute_result"
    }
   ],
   "source": [
    "backend = BasicAer.get_backend('qasm_simulator')\n",
    "qc = QuantumCircuit(1)\n",
    "qc.h(0)\n",
    "qc.h(0)\n",
    "transpile(qc, backend=backend).draw('mpl')"
   ]
  },
  {
   "cell_type": "code",
   "execution_count": 31,
   "metadata": {},
   "outputs": [
    {
     "data": {
      "image/png": "[encoded data removed]",
      "text/plain": [
       "<Figure size 253.926x84.28 with 1 Axes>"
      ]
     },
     "execution_count": 31,
     "metadata": {},
     "output_type": "execute_result"
    }
   ],
   "source": [
    "backend = BasicAer.get_backend('qasm_simulator')\n",
    "qc = QuantumCircuit(1)\n",
    "qc.h(0)\n",
    "qc.barrier()\n",
    "qc.h(0)\n",
    "transpile(qc, backend=backend).draw('mpl')"
   ]
  },
  {
   "cell_type": "code",
   "execution_count": 36,
   "metadata": {},
   "outputs": [
    {
     "data": {
      "image/png": "[encoded data removed]",
      "text/plain": [
       "<Figure size 253.926x84.28 with 1 Axes>"
      ]
     },
     "execution_count": 36,
     "metadata": {},
     "output_type": "execute_result"
    }
   ],
   "source": [
    "# try it out yourself with different gates: instead of Hadamard, try Pauili gates\n",
    "my_qc = QuantumCircuit(1)\n",
    "my_qc.x(0)\n",
    "my_qc.barrier()\n",
    "my_qc.x(0)\n",
    "transpile(my_qc, backend=backend).draw('mpl')\n",
    "# did you get what you expected?"
   ]
  },
  {
   "cell_type": "markdown",
   "metadata": {},
   "source": [
    "## Circuit depth\n",
    "\n",
    "Circuit depth returns the length of critical path in the circuit. It is a metric that calculates the longest path between the input and the output.\n",
    "\n",
    "**NOTE:** The single argument is **filter_function** – a function to filter out some instructions. Should take as input a tuple of (Instruction, list(Qubit), list(Clbit)). By default filters out “directives”, such as barrier or snapshot."
   ]
  },
  {
   "cell_type": "code",
   "execution_count": 37,
   "metadata": {},
   "outputs": [
    {
     "data": {
      "text/plain": [
       "1"
      ]
     },
     "execution_count": 37,
     "metadata": {},
     "output_type": "execute_result"
    }
   ],
   "source": [
    "qc = QuantumCircuit(1)\n",
    "qc.x(0)\n",
    "qc.depth()"
   ]
  },
  {
   "cell_type": "code",
   "execution_count": 39,
   "metadata": {},
   "outputs": [
    {
     "data": {
      "text/plain": [
       "2"
      ]
     },
     "execution_count": 39,
     "metadata": {},
     "output_type": "execute_result"
    }
   ],
   "source": [
    "qc = QuantumCircuit(2)\n",
    "qc.x([0,1])\n",
    "qc.x(1)\n",
    "qc.depth()\n",
    "# draw the circuit yourself to see why the depth has increased now\n",
    "qc.draw()"
   ]
  },
  {
   "cell_type": "code",
   "execution_count": 47,
   "metadata": {},
   "outputs": [
    {
     "data": {
      "text/html": [
       "<pre style=\"word-wrap: normal;white-space: pre;background: #fff0;line-height: 1.1;font-family: &quot;Courier New&quot;,Courier,monospace\">     ┌───┐ ░ ┌───┐     \n",
       "q_0: ┤ X ├─░─┤ H ├──■──\n",
       "     └───┘ ░ └───┘┌─┴─┐\n",
       "q_1: ─────────────┤ X ├\n",
       "                  └───┘</pre>"
      ],
      "text/plain": [
       "     ┌───┐ ░ ┌───┐     \n",
       "q_0: ┤ X ├─░─┤ H ├──■──\n",
       "     └───┘ ░ └───┘┌─┴─┐\n",
       "q_1: ─────────────┤ X ├\n",
       "                  └───┘"
      ]
     },
     "execution_count": 47,
     "metadata": {},
     "output_type": "execute_result"
    }
   ],
   "source": [
    "qc = QuantumCircuit(2)\n",
    "qc.x(0)\n",
    "qc.barrier(0)\n",
    "qc.h(0)\n",
    "qc.cx(0,1)\n",
    "qc.depth()\n",
    "# draw the circuit yourself to see why the depth has increased now\n",
    "# hint: the longest path is not always the lenth of the longest sequence along one channel\n",
    "qc.draw()\n",
    "# the second qubit only has a CX gate applied to it, but has to \"wait\" for the first qubit to provide the control\n",
    "# also, barier doesn't count"
   ]
  },
  {
   "cell_type": "markdown",
   "metadata": {},
   "source": [
    "# Section 4: Execute a quantum circuit"
   ]
  },
  {
   "cell_type": "code",
   "execution_count": 72,
   "metadata": {},
   "outputs": [
    {
     "data": {
      "text/html": [
       "<pre style=\"word-wrap: normal;white-space: pre;background: #fff0;line-height: 1.1;font-family: &quot;Courier New&quot;,Courier,monospace\">        ┌───┐┌────┐┌────┐ ░ ┌─┐      \n",
       "   q_0: ┤ H ├┤0   ├┤0   ├─░─┤M├──────\n",
       "        ├───┤│    ││    │ ░ └╥┘┌─┐   \n",
       "   q_1: ┤ H ├┤1 Q ├┤1 Q ├─░──╫─┤M├───\n",
       "        ├───┤│    ││    │ ░  ║ └╥┘┌─┐\n",
       "   q_2: ┤ H ├┤2   ├┤2   ├─░──╫──╫─┤M├\n",
       "        └───┘└────┘└────┘ ░  ║  ║ └╥┘\n",
       "meas: 3/═════════════════════╩══╩══╩═\n",
       "                             0  1  2 </pre>"
      ],
      "text/plain": [
       "        ┌───┐┌────┐┌────┐ ░ ┌─┐      \n",
       "   q_0: ┤ H ├┤0   ├┤0   ├─░─┤M├──────\n",
       "        ├───┤│    ││    │ ░ └╥┘┌─┐   \n",
       "   q_1: ┤ H ├┤1 Q ├┤1 Q ├─░──╫─┤M├───\n",
       "        ├───┤│    ││    │ ░  ║ └╥┘┌─┐\n",
       "   q_2: ┤ H ├┤2   ├┤2   ├─░──╫──╫─┤M├\n",
       "        └───┘└────┘└────┘ ░  ║  ║ └╥┘\n",
       "meas: 3/═════════════════════╩══╩══╩═\n",
       "                             0  1  2 "
      ]
     },
     "execution_count": 72,
     "metadata": {},
     "output_type": "execute_result"
    }
   ],
   "source": [
    "from qiskit.algorithms import Grover, AmplificationProblem\n",
    "\n",
    "# let's construct an oracle with a single solution\n",
    "sv = Statevector.from_label('010')\n",
    "problem = AmplificationProblem(oracle=sv)\n",
    "\n",
    "qc = Grover(iterations=2).construct_circuit(problem=problem)\n",
    "qc.measure_all()\n",
    "\n",
    "qc.draw()"
   ]
  },
  {
   "cell_type": "code",
   "execution_count": 73,
   "metadata": {},
   "outputs": [
    {
     "data": {
      "image/png": "[encoded data removed]",
      "text/plain": [
       "<Figure size 504x360 with 1 Axes>"
      ]
     },
     "execution_count": 73,
     "metadata": {},
     "output_type": "execute_result"
    }
   ],
   "source": [
    "backend= BasicAer.get_backend('qasm_simulator')\n",
    "job = execute(qc, backend, shots=1024)\n",
    "result = job.result()\n",
    "plot_histogram(result.get_counts())"
   ]
  },
  {
   "cell_type": "markdown",
   "metadata": {},
   "source": [
    "# Section 4: Implement QASM"
   ]
  },
  {
   "cell_type": "markdown",
   "metadata": {},
   "source": [
    "# Section 9: Construct visualizations"
   ]
  }
 ],
 "metadata": {
  "interpreter": {
   "hash": "08c9c49d27e68bdd458820e26d3758366881487861c502456df1e241cab4de5a"
  },
  "kernelspec": {
   "display_name": "Python 3.8.8 ('base')",
   "language": "python",
   "name": "python3"
  },
  "language_info": {
   "codemirror_mode": {
    "name": "ipython",
    "version": 3
   },
   "file_extension": ".py",
   "mimetype": "text/x-python",
   "name": "python",
   "nbconvert_exporter": "python",
   "pygments_lexer": "ipython3",
   "version": "3.8.8"
  },
  "orig_nbformat": 4
 },
 "nbformat": 4,
 "nbformat_minor": 2
}
